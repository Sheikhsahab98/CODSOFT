{
  "nbformat": 4,
  "nbformat_minor": 0,
  "metadata": {
    "colab": {
      "provenance": [],
      "authorship_tag": "ABX9TyOQ4dH0+RSpAoHuJE33BJq0",
      "include_colab_link": true
    },
    "kernelspec": {
      "name": "python3",
      "display_name": "Python 3"
    },
    "language_info": {
      "name": "python"
    }
  },
  "cells": [
    {
      "cell_type": "markdown",
      "metadata": {
        "id": "view-in-github",
        "colab_type": "text"
      },
      "source": [
        "<a href=\"https://colab.research.google.com/github/Sheikhsahab98/CODSOFT/blob/main/tik-tac-toe-AI.ipynb\" target=\"_parent\"><img src=\"https://colab.research.google.com/assets/colab-badge.svg\" alt=\"Open In Colab\"/></a>"
      ]
    },
    {
      "cell_type": "markdown",
      "source": [],
      "metadata": {
        "id": "eGLEQMeb8c1G"
      }
    },
    {
      "cell_type": "code",
      "source": [
        "# @title Default title text\n",
        "import random\n",
        "\n",
        "class TicTacToe:\n",
        "    def __init__(self):\n",
        "        self.board = [' '] * 9\n",
        "\n",
        "    def print_board(self):\n",
        "        for i in range(0, 9, 3):\n",
        "            print(' | '.join(self.board[i:i+3]))\n",
        "            if i < 6:\n",
        "                print('---------')\n",
        "\n",
        "    def is_winner(self, player):\n",
        "        for i in range(0, 9, 3):\n",
        "            # Check rows\n",
        "            if all(self.board[i:i+3] == [player, player, player]):\n",
        "                return True\n",
        "            # Check columns\n",
        "            if all(self.board[j+i] == player for j in range(0, 7, 3)):\n",
        "                return True\n",
        "        # Check diagonals\n",
        "        if all(self.board[i] == player for i in range(0, 9, 4)) or \\\n",
        "           all(self.board[i] == player for i in range(2, 7, 2)):\n",
        "            return True\n",
        "        return False\n",
        "\n",
        "    def is_full(self):\n",
        "        return ' ' not in self.board\n",
        "\n",
        "    def is_game_over(self):\n",
        "        return self.is_winner('X') or self.is_winner('O') or self.is_full()\n",
        "\n",
        "    def get_empty_cells(self):\n",
        "        return [i for i in range(9) if self.board[i] == ' ']\n",
        "\n",
        "    def make_move(self, cell, player):\n",
        "        if self.board[cell] == ' ':\n",
        "            self.board[cell] = player\n",
        "            return True\n",
        "        else:\n",
        "            return False\n",
        "\n",
        "def minimax(board, depth, maximizing_player):\n",
        "    if board.is_winner('X'):\n",
        "        return -1\n",
        "    elif board.is_winner('O'):\n",
        "        return 1\n",
        "    elif board.is_full():\n",
        "        return 0\n",
        "\n",
        "    if maximizing_player:\n",
        "        max_eval = float('-inf')\n",
        "        for empty_cell in board.get_empty_cells():\n",
        "            board.make_move(empty_cell, 'O')\n",
        "            eval = minimax(board, depth + 1, False)\n",
        "            board.make_move"
      ],
      "metadata": {
        "id": "NwUXiPB5K57-"
      },
      "execution_count": 2,
      "outputs": []
    }
  ]
}
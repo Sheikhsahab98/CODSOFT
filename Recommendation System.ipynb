{
 "cells": [
  {
   "cell_type": "code",
   "execution_count": 1,
   "id": "5f8f3e87",
   "metadata": {},
   "outputs": [],
   "source": [
    "#Recommendation system"
   ]
  },
  {
   "cell_type": "code",
   "execution_count": null,
   "id": "3dec4c9a",
   "metadata": {},
   "outputs": [],
   "source": [
    "import pandas as pd\n",
    "from sklearn.metrics.pairwise import cosine_similarity\n",
    "from sklearn.model_selection import train_test_split\n",
    "\n",
    "# Sample data (user ratings for movies)\n",
    "data = {\n",
    "    'User': ['User1', 'User2', 'User3', 'User4', 'User5'],\n",
    "    'Movie1': [5, 4, 0, 2, 1],\n",
    "    'Movie2': [4, 5, 1, 3, 2],\n",
    "    'Movie3': [0, 2, 5, 4, 3],\n",
    "    'Movie4': [3, 1, 4, 5, 0],\n",
    "    'Movie5': [2, 3, 0, 1, 5],\n",
    "}\n",
    "\n",
    "df = pd.DataFrame(data)\n",
    "\n",
    "# Function to calculate cosine similarity between users\n",
    "def calculate_similarity(dataframe):\n",
    "    user_similarity = cosine_similarity(dataframe.iloc[:, 1:])\n",
    "    return pd.DataFrame(user_similarity, columns=dataframe['User'], index=dataframe['User'])\n",
    "\n",
    "# Function to get movie recommendations for a given user\n",
    "def get_movie_recommendations(user, similarity_matrix, dataframe, num_recommendations=3):\n",
    "    user_ratings = dataframe[dataframe['User'] == user].iloc[:, 1:]\n",
    "    similar_users = similarity_matrix[user].sort_values(ascending=False).index[1:]\n",
    "    \n",
    "    recommendations = []\n",
    "\n",
    "    for movie in user_ratings.columns:\n",
    "        if user_ratings[movie].values[0] == 0:  # Not yet rated\n",
    "            total_similarity = 0\n",
    "            weighted_sum = 0\n",
    "\n",
    "            for similar_user in similar_users:\n",
    "                sim_score = similarity_matrix[user][similar_user]\n",
    "                weighted_sum += sim_score * dataframe[dataframe['User'] == similar_user][movie].values[0]\n",
    "                total_similarity += abs(sim_score)\n",
    "\n",
    "            if total_similarity > 0:\n",
    "                predicted_rating = weighted_sum / total_similarity\n",
    "                recommendations.append((movie, predicted_rating))\n",
    "\n",
    "    recommendations.sort(key=lambda x: x[1], reverse=True)\n",
    "    return recommendations[:num_recommendations]\n",
    "\n",
    "# Split data into training and testing sets\n",
    "train_data, test_data = train_test_split(df, test_size=0.2, random_state=42)\n",
    "\n",
    "# Calculate user similarity\n",
    "user_similarity_matrix = calculate_similarity(train_data)\n",
    "\n",
    "# Example: Get movie recommendations for User1\n",
    "user_recommendations = get_movie_recommendations('User1', user_similarity_matrix, train_data)\n",
    "print(f\"Recommended movies for User1: {user_recommendations}\")\n"
   ]
  }
 ],
 "metadata": {
  "kernelspec": {
   "display_name": "Python 3 (ipykernel)",
   "language": "python",
   "name": "python3"
  },
  "language_info": {
   "codemirror_mode": {
    "name": "ipython",
    "version": 3
   },
   "file_extension": ".py",
   "mimetype": "text/x-python",
   "name": "python",
   "nbconvert_exporter": "python",
   "pygments_lexer": "ipython3",
   "version": "3.9.13"
  }
 },
 "nbformat": 4,
 "nbformat_minor": 5
}

{
 "cells": [
  {
   "cell_type": "code",
   "execution_count": null,
   "id": "954c8545",
   "metadata": {},
   "outputs": [
    {
     "name": "stdout",
     "output_type": "stream",
     "text": [
      "You: hi\n",
      "Bot: Hi there! How can I assist you today?\n",
      "You: time\n",
      "Bot: The current time is Wednesday, 10 January 2024 13:39:51.\n",
      "You: weather\n",
      "Bot: The weather is sunny and pleasant.\n",
      "You: tell me a joke\n",
      "Bot: Why don't scientists trust atoms? Because they make up everything!\n"
     ]
    }
   ],
   "source": [
    "import random\n",
    "from datetime import datetime\n",
    "\n",
    "def get_time():\n",
    "    current_time = datetime.now().strftime(\"%A, %d %B %Y %H:%M:%S\")\n",
    "    return current_time\n",
    "\n",
    "def get_weather():\n",
    "    # In a real-world scenario, you would integrate with a weather API to get accurate information.\n",
    "    # For simplicity, let's assume the weather is always sunny.\n",
    "    return \"The weather is sunny and pleasant.\"\n",
    "\n",
    "def chat():\n",
    "    user_input = input(\"You: \").lower()\n",
    "\n",
    "    if \"hello\" in user_input or \"hi\" in user_input:\n",
    "        print(\"Bot: Hi there! How can I assist you today?\")\n",
    "    elif \"how are you\" in user_input:\n",
    "        print(\"Bot: I'm just a computer program, but thanks for asking!\")\n",
    "    elif \"tell me a joke\" in user_input:\n",
    "        jokes = [\"Why don't scientists trust atoms? Because they make up everything!\", \"What do you call fake spaghetti? An impasta!\"]\n",
    "        print(f\"Bot: {random.choice(jokes)}\")\n",
    "    elif \"time\" in user_input:\n",
    "        current_time = get_time()\n",
    "        print(f\"Bot: The current time is {current_time}.\")\n",
    "    elif \"weather\" in user_input:\n",
    "        weather_info = get_weather()\n",
    "        print(f\"Bot: {weather_info}\")\n",
    "    elif \"help\" in user_input:\n",
    "        print(\"Bot: Available commands:\")\n",
    "        print(\"* Greetings: Responds to greetings like 'hello' or 'hi'.\")\n",
    "        print(\"* How are you: Inquires about the bot's well-being.\")\n",
    "        print(\"* Tell me a joke: Shares a random joke.\")\n",
    "        print(\"* Time: Provides the current date and time.\")\n",
    "        print(\"* Weather: Shares information about the weather (simulated).\")\n",
    "        print(\"* Bye: Ends the conversation.\")\n",
    "    elif \"bye\" in user_input:\n",
    "        print(\"Bot: Goodbye! Have a great day!\")\n",
    "        return\n",
    "    else:\n",
    "        print(\"Bot: I'm sorry, I didn't understand that. Could you please ask something else?\")\n",
    "\n",
    "    chat()\n",
    "\n",
    "chat()"
   ]
  },
  {
   "cell_type": "code",
   "execution_count": null,
   "id": "cef8ffd1",
   "metadata": {},
   "outputs": [],
   "source": []
  }
 ],
 "metadata": {
  "kernelspec": {
   "display_name": "Python 3 (ipykernel)",
   "language": "python",
   "name": "python3"
  }
 },
 "nbformat": 4,
 "nbformat_minor": 5
}
